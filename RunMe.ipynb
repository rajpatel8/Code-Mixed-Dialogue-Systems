{
 "cells": [
  {
   "cell_type": "markdown",
   "metadata": {},
   "source": [
    "# Hindi-English Code-Switching Model Demo\n",
    "\n",
    "This notebook demonstrates how to use the Hindi-English code-switching model that was fine-tuned on XLM-RoBERTa. The model is hosted on HuggingFace and can be loaded directly without any training."
   ]
  },
  {
   "cell_type": "markdown",
   "metadata": {},
   "source": [
    "## Setup\n",
    "\n",
    "First, let's install the required packages if you haven't already:"
   ]
  },
  {
   "cell_type": "code",
   "execution_count": null,
   "metadata": {},
   "outputs": [
    {
     "ename": "",
     "evalue": "",
     "output_type": "error",
     "traceback": [
      "\u001b[1;31mThe kernel failed to start as the Python Environment 'qwe (Python -1.-1.-1)' is no longer available. Consider selecting another kernel or refreshing the list of Python Environments."
     ]
    }
   ],
   "source": [
    "# Run this script to install the required packages\n",
    "%pip install -r requirements.txt"
   ]
  },
  {
   "cell_type": "markdown",
   "metadata": {},
   "source": [
    "## Loading the Model\n",
    "\n",
    "Now let's load the model and tokenizer from HuggingFace:"
   ]
  },
  {
   "cell_type": "code",
   "execution_count": null,
   "metadata": {},
   "outputs": [
    {
     "ename": "",
     "evalue": "",
     "output_type": "error",
     "traceback": [
      "\u001b[1;31mThe kernel failed to start as the Python Environment 'qwe (Python -1.-1.-1)' is no longer available. Consider selecting another kernel or refreshing the list of Python Environments."
     ]
    }
   ],
   "source": [
    "from transformers import AutoTokenizer, AutoModelForMaskedLM, pipeline\n",
    "\n",
    "# Load model and tokenizer\n",
    "tokenizer = AutoTokenizer.from_pretrained(\"xlm-roberta-base\")\n",
    "model = AutoModelForMaskedLM.from_pretrained(\"lord-rajkumar/Code-Switch-Model\")\n",
    "\n",
    "# Create a fill-mask pipeline\n",
    "# Note: The device will be automatically selected (GPU if available)\n",
    "fill_mask = pipeline(\"fill-mask\", model=model, tokenizer=tokenizer)\n",
    "# You'll see a message like \"Device set to use mps:0\" or \"Device set to use cuda:0\" if you have GPU\n",
    "\n",
    "# Create zero-shot classification pipeline for demographic analysis\n",
    "classifier = pipeline(\"zero-shot-classification\", model=\"facebook/bart-large-mnli\")\n",
    "\n",
    "def classify_demographics(token_str):\n",
    "    \"\"\"Classify the demographics of a token\"\"\"\n",
    "    token_str_clean = token_str.strip()\n",
    "    if not token_str_clean:\n",
    "        return {\"age\": \"unknown\", \"region\": \"unknown\"}\n",
    "    \n",
    "    # Classify for age\n",
    "    result_age = classifier(token_str_clean, candidate_labels=[\"under 30\", \"over 30\"])\n",
    "    age_label = result_age[\"labels\"][0]\n",
    "    age_score = result_age[\"scores\"][0]\n",
    "    \n",
    "    # Classify for region\n",
    "    result_region = classifier(token_str_clean, candidate_labels=[\"urban\", \"rural\"])\n",
    "    region_label = result_region[\"labels\"][0]\n",
    "    region_score = result_region[\"scores\"][0]\n",
    "    \n",
    "    return {\n",
    "        \"age\": age_label,\n",
    "        \"age_confidence\": f\"{age_score:.2f}\",\n",
    "        \"region\": region_label,\n",
    "        \"region_confidence\": f\"{region_score:.2f}\"\n",
    "    }"
   ]
  },
  {
   "cell_type": "markdown",
   "metadata": {},
   "source": [
    "## Testing with Example Sentences\n",
    "\n",
    "Let's test the model with various code-switched sentences:"
   ]
  },
  {
   "cell_type": "code",
   "execution_count": 3,
   "metadata": {},
   "outputs": [
    {
     "name": "stdout",
     "output_type": "stream",
     "text": [
      "\n",
      "=== Input: <mask>, kya scene hai? ===\n",
      "\n",
      "Token: 'Bhai', Score: 0.1594\n",
      "  Demographics: Age likely under 30 (confidence: 0.66)\n",
      "               Region likely rural (confidence: 0.57)\n",
      "\n",
      "Token: 'Hello', Score: 0.1397\n",
      "  Demographics: Age likely under 30 (confidence: 0.75)\n",
      "               Region likely urban (confidence: 0.56)\n",
      "\n",
      "Token: 'Hi', Score: 0.1270\n",
      "  Demographics: Age likely under 30 (confidence: 0.67)\n",
      "               Region likely urban (confidence: 0.59)\n",
      "\n",
      "Token: 'Sir', Score: 0.0762\n",
      "  Demographics: Age likely over 30 (confidence: 0.60)\n",
      "               Region likely urban (confidence: 0.55)\n",
      "\n",
      "Token: 'Hai', Score: 0.0436\n",
      "  Demographics: Age likely under 30 (confidence: 0.69)\n",
      "               Region likely urban (confidence: 0.57)\n",
      "\n",
      "=== Input: Project pe <mask> progress chal raha hai. ===\n",
      "\n",
      "Token: 'kya', Score: 0.2187\n",
      "  Demographics: Age likely under 30 (confidence: 0.72)\n",
      "               Region likely urban (confidence: 0.62)\n",
      "\n",
      "Token: 'bahut', Score: 0.1086\n",
      "  Demographics: Age likely under 30 (confidence: 0.76)\n",
      "               Region likely urban (confidence: 0.54)\n",
      "\n",
      "Token: 'ek', Score: 0.0437\n",
      "  Demographics: Age likely under 30 (confidence: 0.68)\n",
      "               Region likely urban (confidence: 0.53)\n",
      "\n",
      "Token: 'mera', Score: 0.0393\n",
      "  Demographics: Age likely under 30 (confidence: 0.62)\n",
      "               Region likely urban (confidence: 0.53)\n",
      "\n",
      "Token: 'bhi', Score: 0.0346\n",
      "  Demographics: Age likely under 30 (confidence: 0.66)\n",
      "               Region likely urban (confidence: 0.52)\n",
      "\n",
      "=== Input: Hello, <mask> kya kr raha hai? ===\n",
      "\n",
      "Token: 'aap', Score: 0.5082\n",
      "  Demographics: Age likely under 30 (confidence: 0.72)\n",
      "               Region likely urban (confidence: 0.62)\n",
      "\n",
      "Token: 'Aap', Score: 0.0889\n",
      "  Demographics: Age likely under 30 (confidence: 0.77)\n",
      "               Region likely rural (confidence: 0.56)\n",
      "\n",
      "Token: 'Abhi', Score: 0.0504\n",
      "  Demographics: Age likely under 30 (confidence: 0.75)\n",
      "               Region likely urban (confidence: 0.50)\n",
      "\n",
      "Token: 'Bhai', Score: 0.0452\n",
      "  Demographics: Age likely under 30 (confidence: 0.66)\n",
      "               Region likely rural (confidence: 0.57)\n",
      "\n",
      "Token: 'Rahul', Score: 0.0217\n",
      "  Demographics: Age likely under 30 (confidence: 0.72)\n",
      "               Region likely urban (confidence: 0.85)\n"
     ]
    }
   ],
   "source": [
    "# Define example sentences\n",
    "examples = [\n",
    "    \"<mask>, kya scene hai?\",   # Translation: <mask>, what's the scenario?\n",
    "    \"Project pe <mask> progress chal raha hai.\", # Translation: <mask> the progress on the project?\n",
    "    \"Hello, <mask> kya kr raha hai?\"    # Translation: Hello, <mask> what are you doing?\n",
    "]\n",
    "\n",
    "# Process each example\n",
    "for example in examples:\n",
    "    print(f\"\\n=== Input: {example} ===\")\n",
    "    results = fill_mask(example)\n",
    "    for result in results:\n",
    "        token = result['token_str']\n",
    "        score = result['score']\n",
    "        print(f\"\\nToken: '{token}', Score: {score:.4f}\")\n",
    "        \n",
    "        # Perform demographic classification\n",
    "        demographics = classify_demographics(token)\n",
    "        print(f\"  Demographics: Age likely {demographics['age']} (confidence: {demographics['age_confidence']})\")\n",
    "        print(f\"               Region likely {demographics['region']} (confidence: {demographics['region_confidence']})\")"
   ]
  },
  {
   "cell_type": "markdown",
   "metadata": {},
   "source": [
    "## Expected Output\n",
    "\n",
    "When you run the code above, you should see results similar to these (including demographic analysis):\n",
    "\n",
    "```\n",
    "=== Input: <mask>, kya scene hai? ===\n",
    "\n",
    "Token: 'Bhai', Score: 0.1594\n",
    "  Demographics: Age likely under 30 (confidence: 0.66)\n",
    "               Region likely rural (confidence: 0.57)\n",
    "\n",
    "Token: 'Hello', Score: 0.1397\n",
    "  Demographics: Age likely under 30 (confidence: 0.75)\n",
    "               Region likely urban (confidence: 0.56)\n",
    "\n",
    "Token: 'Hi', Score: 0.1270\n",
    "  Demographics: Age likely under 30 (confidence: 0.67)\n",
    "               Region likely urban (confidence: 0.59)\n",
    "\n",
    "Token: 'Sir', Score: 0.0762\n",
    "  Demographics: Age likely over 30 (confidence: 0.60)\n",
    "               Region likely urban (confidence: 0.55)\n",
    "\n",
    "Token: 'Hai', Score: 0.0436\n",
    "  Demographics: Age likely under 30 (confidence: 0.69)\n",
    "               Region likely urban (confidence: 0.57)\n",
    "```"
   ]
  },
  {
   "cell_type": "markdown",
   "metadata": {},
   "source": [
    "## Analysis of Demographic Patterns\n",
    "\n",
    "The zero-shot classification reveals interesting patterns in the model's predictions:\n",
    "\n",
    "1. **Age patterns**:\n",
    "   - Most predicted tokens are classified as \"under 30\", which aligns with the prevalence of code-switching among younger generations\n",
    "   - Formal terms like \"Sir\" are classified as \"over 30\", suggesting formality correlates with older age groups\n",
    "\n",
    "2. **Regional patterns**:\n",
    "   - English greetings like \"Hello\" and \"Hi\" are classified as more urban\n",
    "   - Terms like \"Bhai\" have a higher rural classification than English equivalents\n",
    "   - Personal names like \"Rahul\" have a very high urban confidence\n",
    "\n",
    "3. **Confidence levels**:\n",
    "   - The model's confidence in age classification is generally higher than in regional classification\n",
    "   - Most classifications have moderate confidence (0.55-0.75), which is appropriate for this type of analysis\n",
    "\n",
    "These patterns suggest that code-switching has demographic dimensions that can be captured and analyzed using NLP techniques."
   ]
  },
  {
   "cell_type": "code",
   "execution_count": 3,
   "metadata": {},
   "outputs": [
    {
     "name": "stdout",
     "output_type": "stream",
     "text": [
      "\n",
      "=== Input: <mask> working on this project? ===\n",
      "\n",
      "Token: 'Help', Score: 0.0749\n",
      "  Demographics: Age likely under 30 (confidence: 0.69)\n",
      "               Region likely urban (confidence: 0.52)\n",
      "\n",
      "Token: 'Still', Score: 0.0742\n",
      "  Demographics: Age likely under 30 (confidence: 0.69)\n",
      "               Region likely rural (confidence: 0.50)\n",
      "\n",
      "Token: 'Like', Score: 0.0719\n",
      "  Demographics: Age likely under 30 (confidence: 0.66)\n",
      "               Region likely urban (confidence: 0.56)\n",
      "\n",
      "Token: 'Any', Score: 0.0620\n",
      "  Demographics: Age likely under 30 (confidence: 0.74)\n",
      "               Region likely urban (confidence: 0.52)\n",
      "\n",
      "Token: 'Your', Score: 0.0570\n",
      "  Demographics: Age likely under 30 (confidence: 0.61)\n",
      "               Region likely urban (confidence: 0.53)\n",
      "\n",
      "=== Input: Aaj <mask> plans kya hain? ===\n",
      "\n",
      "Token: 'ka', Score: 0.2887\n",
      "  Demographics: Age likely under 30 (confidence: 0.64)\n",
      "               Region likely urban (confidence: 0.55)\n",
      "\n",
      "Token: 'ke', Score: 0.2329\n",
      "  Demographics: Age likely under 30 (confidence: 0.67)\n",
      "               Region likely urban (confidence: 0.56)\n",
      "\n",
      "Token: 'ki', Score: 0.1684\n",
      "  Demographics: Age likely under 30 (confidence: 0.63)\n",
      "               Region likely urban (confidence: 0.59)\n",
      "\n",
      "Token: 'mein', Score: 0.0857\n",
      "  Demographics: Age likely under 30 (confidence: 0.66)\n",
      "               Region likely urban (confidence: 0.52)\n",
      "\n",
      "Token: 'ki', Score: 0.0478\n",
      "  Demographics: Age likely under 30 (confidence: 0.63)\n",
      "               Region likely urban (confidence: 0.59)\n",
      "\n",
      "=== Input: Meeting mein <mask> discussion hui. ===\n",
      "\n",
      "Token: 'kya', Score: 0.1995\n",
      "  Demographics: Age likely under 30 (confidence: 0.72)\n",
      "               Region likely urban (confidence: 0.62)\n",
      "\n",
      "Token: 'ek', Score: 0.1773\n",
      "  Demographics: Age likely under 30 (confidence: 0.68)\n",
      "               Region likely urban (confidence: 0.53)\n",
      "\n",
      "Token: 'mein', Score: 0.0482\n",
      "  Demographics: Age likely under 30 (confidence: 0.66)\n",
      "               Region likely urban (confidence: 0.52)\n",
      "\n",
      "Token: 'kaam', Score: 0.0458\n",
      "  Demographics: Age likely under 30 (confidence: 0.66)\n",
      "               Region likely rural (confidence: 0.57)\n",
      "\n",
      "Token: 'kuch', Score: 0.0381\n",
      "  Demographics: Age likely under 30 (confidence: 0.74)\n",
      "               Region likely rural (confidence: 0.52)\n"
     ]
    }
   ],
   "source": [
    "# Try your own examples here with demographic analysis\n",
    "custom_examples = [\n",
    "    \"<mask> working on this project?\",\n",
    "    \"Aaj <mask> plans kya hain?\",\n",
    "    \"Meeting mein <mask> discussion hui.\"\n",
    "]\n",
    "\n",
    "for example in custom_examples:\n",
    "    print(f\"\\n=== Input: {example} ===\")\n",
    "    results = fill_mask(example)\n",
    "    for result in results:\n",
    "        token = result['token_str']\n",
    "        score = result['score']\n",
    "        print(f\"\\nToken: '{token}', Score: {score:.4f}\")\n",
    "        \n",
    "        # Perform demographic classification\n",
    "        demographics = classify_demographics(token)\n",
    "        print(f\"  Demographics: Age likely {demographics['age']} (confidence: {demographics['age_confidence']})\")\n",
    "        print(f\"               Region likely {demographics['region']} (confidence: {demographics['region_confidence']})\")"
   ]
  },
  {
   "cell_type": "markdown",
   "metadata": {},
   "source": [
    "## Conclusion\n",
    "\n",
    "This notebook demonstrates the code-switching capabilities of the fine-tuned XLM-RoBERTa model. It shows how the model can predict appropriate Hindi or English words in mixed-language contexts.\n",
    "\n",
    "The model shows interesting patterns in how it completes sentences with either Hindi or English words depending on the context, capturing natural code-switching behavior observed in multilingual Indian communities."
   ]
  }
 ],
 "metadata": {
  "kernelspec": {
   "display_name": "qwe",
   "language": "python",
   "name": "python3"
  },
  "language_info": {
   "codemirror_mode": {
    "name": "ipython",
    "version": 3
   },
   "file_extension": ".py",
   "mimetype": "text/x-python",
   "name": "python",
   "nbconvert_exporter": "python",
   "pygments_lexer": "ipython3",
   "version": "-1.-1.-1"
  }
 },
 "nbformat": 4,
 "nbformat_minor": 4
}
